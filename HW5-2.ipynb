{
 "cells": [
  {
   "cell_type": "markdown",
   "metadata": {},
   "source": [
    "# Using Python for Research Homework: Week 5, Case Study Part 2\n",
    "\n",
    "The [movie dataset on which this case study is based](https://www.kaggle.com/tmdb/tmdb-movie-metadata) is a database of 5000 movies catalogued by [The Movie Database (TMDb)](https://www.themoviedb.org/?language=en). The information available about each movie is its budget, revenue, rating, actors and actresses, etc. In this case study, we will use this dataset to determine whether any information about a movie can predict the total revenue of a movie. We will also attempt to predict whether a movie's revenue will exceed its budget.\n",
    "\n",
    "In Part 2, we will use the dataset prepared in Part 1 for an applied analysis."
   ]
  },
  {
   "cell_type": "code",
   "execution_count": 14,
   "metadata": {},
   "outputs": [
    {
     "data": {
      "text/html": [
       "<div>\n",
       "<style scoped>\n",
       "    .dataframe tbody tr th:only-of-type {\n",
       "        vertical-align: middle;\n",
       "    }\n",
       "\n",
       "    .dataframe tbody tr th {\n",
       "        vertical-align: top;\n",
       "    }\n",
       "\n",
       "    .dataframe thead th {\n",
       "        text-align: right;\n",
       "    }\n",
       "</style>\n",
       "<table border=\"1\" class=\"dataframe\">\n",
       "  <thead>\n",
       "    <tr style=\"text-align: right;\">\n",
       "      <th></th>\n",
       "      <th>Unnamed: 0</th>\n",
       "      <th>budget</th>\n",
       "      <th>genres</th>\n",
       "      <th>homepage</th>\n",
       "      <th>id</th>\n",
       "      <th>keywords</th>\n",
       "      <th>original_language</th>\n",
       "      <th>original_title</th>\n",
       "      <th>overview</th>\n",
       "      <th>popularity</th>\n",
       "      <th>...</th>\n",
       "      <th>Comedy</th>\n",
       "      <th>Romance</th>\n",
       "      <th>Horror</th>\n",
       "      <th>Mystery</th>\n",
       "      <th>War</th>\n",
       "      <th>History</th>\n",
       "      <th>Music</th>\n",
       "      <th>Documentary</th>\n",
       "      <th>TV Movie</th>\n",
       "      <th>Foreign</th>\n",
       "    </tr>\n",
       "  </thead>\n",
       "  <tbody>\n",
       "    <tr>\n",
       "      <th>0</th>\n",
       "      <td>0</td>\n",
       "      <td>8.374748</td>\n",
       "      <td>Action, Adventure, Fantasy, Science Fiction</td>\n",
       "      <td>http://www.avatarmovie.com/</td>\n",
       "      <td>19995</td>\n",
       "      <td>culture clash, future, space war, space colony...</td>\n",
       "      <td>en</td>\n",
       "      <td>Avatar</td>\n",
       "      <td>In the 22nd century, a paraplegic Marine is di...</td>\n",
       "      <td>2.180234</td>\n",
       "      <td>...</td>\n",
       "      <td>0</td>\n",
       "      <td>0</td>\n",
       "      <td>0</td>\n",
       "      <td>0</td>\n",
       "      <td>0</td>\n",
       "      <td>0</td>\n",
       "      <td>0</td>\n",
       "      <td>0</td>\n",
       "      <td>0</td>\n",
       "      <td>0</td>\n",
       "    </tr>\n",
       "    <tr>\n",
       "      <th>1</th>\n",
       "      <td>1</td>\n",
       "      <td>8.477121</td>\n",
       "      <td>Adventure, Fantasy, Action</td>\n",
       "      <td>http://disney.go.com/disneypictures/pirates/</td>\n",
       "      <td>285</td>\n",
       "      <td>ocean, drug abuse, exotic island, east india t...</td>\n",
       "      <td>en</td>\n",
       "      <td>Pirates of the Caribbean: At World's End</td>\n",
       "      <td>Captain Barbossa, long believed to be dead, ha...</td>\n",
       "      <td>2.146384</td>\n",
       "      <td>...</td>\n",
       "      <td>0</td>\n",
       "      <td>0</td>\n",
       "      <td>0</td>\n",
       "      <td>0</td>\n",
       "      <td>0</td>\n",
       "      <td>0</td>\n",
       "      <td>0</td>\n",
       "      <td>0</td>\n",
       "      <td>0</td>\n",
       "      <td>0</td>\n",
       "    </tr>\n",
       "    <tr>\n",
       "      <th>2</th>\n",
       "      <td>2</td>\n",
       "      <td>8.389166</td>\n",
       "      <td>Action, Adventure, Crime</td>\n",
       "      <td>http://www.sonypictures.com/movies/spectre/</td>\n",
       "      <td>206647</td>\n",
       "      <td>spy, based on novel, secret agent, sequel, mi6...</td>\n",
       "      <td>en</td>\n",
       "      <td>Spectre</td>\n",
       "      <td>A cryptic message from Bond’s past sends him o...</td>\n",
       "      <td>2.034936</td>\n",
       "      <td>...</td>\n",
       "      <td>0</td>\n",
       "      <td>0</td>\n",
       "      <td>0</td>\n",
       "      <td>0</td>\n",
       "      <td>0</td>\n",
       "      <td>0</td>\n",
       "      <td>0</td>\n",
       "      <td>0</td>\n",
       "      <td>0</td>\n",
       "      <td>0</td>\n",
       "    </tr>\n",
       "    <tr>\n",
       "      <th>3</th>\n",
       "      <td>3</td>\n",
       "      <td>8.397940</td>\n",
       "      <td>Action, Crime, Drama, Thriller</td>\n",
       "      <td>http://www.thedarkknightrises.com/</td>\n",
       "      <td>49026</td>\n",
       "      <td>dc comics, crime fighter, terrorist, secret id...</td>\n",
       "      <td>en</td>\n",
       "      <td>The Dark Knight Rises</td>\n",
       "      <td>Following the death of District Attorney Harve...</td>\n",
       "      <td>2.054280</td>\n",
       "      <td>...</td>\n",
       "      <td>0</td>\n",
       "      <td>0</td>\n",
       "      <td>0</td>\n",
       "      <td>0</td>\n",
       "      <td>0</td>\n",
       "      <td>0</td>\n",
       "      <td>0</td>\n",
       "      <td>0</td>\n",
       "      <td>0</td>\n",
       "      <td>0</td>\n",
       "    </tr>\n",
       "    <tr>\n",
       "      <th>4</th>\n",
       "      <td>4</td>\n",
       "      <td>8.414973</td>\n",
       "      <td>Action, Adventure, Science Fiction</td>\n",
       "      <td>http://movies.disney.com/john-carter</td>\n",
       "      <td>49529</td>\n",
       "      <td>based on novel, mars, medallion, space travel,...</td>\n",
       "      <td>en</td>\n",
       "      <td>John Carter</td>\n",
       "      <td>John Carter is a war-weary, former military ca...</td>\n",
       "      <td>1.652507</td>\n",
       "      <td>...</td>\n",
       "      <td>0</td>\n",
       "      <td>0</td>\n",
       "      <td>0</td>\n",
       "      <td>0</td>\n",
       "      <td>0</td>\n",
       "      <td>0</td>\n",
       "      <td>0</td>\n",
       "      <td>0</td>\n",
       "      <td>0</td>\n",
       "      <td>0</td>\n",
       "    </tr>\n",
       "  </tbody>\n",
       "</table>\n",
       "<p>5 rows × 44 columns</p>\n",
       "</div>"
      ],
      "text/plain": [
       "   Unnamed: 0    budget                                       genres  \\\n",
       "0           0  8.374748  Action, Adventure, Fantasy, Science Fiction   \n",
       "1           1  8.477121                   Adventure, Fantasy, Action   \n",
       "2           2  8.389166                     Action, Adventure, Crime   \n",
       "3           3  8.397940               Action, Crime, Drama, Thriller   \n",
       "4           4  8.414973           Action, Adventure, Science Fiction   \n",
       "\n",
       "                                       homepage      id  \\\n",
       "0                   http://www.avatarmovie.com/   19995   \n",
       "1  http://disney.go.com/disneypictures/pirates/     285   \n",
       "2   http://www.sonypictures.com/movies/spectre/  206647   \n",
       "3            http://www.thedarkknightrises.com/   49026   \n",
       "4          http://movies.disney.com/john-carter   49529   \n",
       "\n",
       "                                            keywords original_language  \\\n",
       "0  culture clash, future, space war, space colony...                en   \n",
       "1  ocean, drug abuse, exotic island, east india t...                en   \n",
       "2  spy, based on novel, secret agent, sequel, mi6...                en   \n",
       "3  dc comics, crime fighter, terrorist, secret id...                en   \n",
       "4  based on novel, mars, medallion, space travel,...                en   \n",
       "\n",
       "                             original_title  \\\n",
       "0                                    Avatar   \n",
       "1  Pirates of the Caribbean: At World's End   \n",
       "2                                   Spectre   \n",
       "3                     The Dark Knight Rises   \n",
       "4                               John Carter   \n",
       "\n",
       "                                            overview  popularity  ... Comedy  \\\n",
       "0  In the 22nd century, a paraplegic Marine is di...    2.180234  ...      0   \n",
       "1  Captain Barbossa, long believed to be dead, ha...    2.146384  ...      0   \n",
       "2  A cryptic message from Bond’s past sends him o...    2.034936  ...      0   \n",
       "3  Following the death of District Attorney Harve...    2.054280  ...      0   \n",
       "4  John Carter is a war-weary, former military ca...    1.652507  ...      0   \n",
       "\n",
       "  Romance Horror  Mystery  War History Music Documentary TV Movie  Foreign  \n",
       "0       0      0        0    0       0     0           0        0        0  \n",
       "1       0      0        0    0       0     0           0        0        0  \n",
       "2       0      0        0    0       0     0           0        0        0  \n",
       "3       0      0        0    0       0     0           0        0        0  \n",
       "4       0      0        0    0       0     0           0        0        0  \n",
       "\n",
       "[5 rows x 44 columns]"
      ]
     },
     "execution_count": 14,
     "metadata": {},
     "output_type": "execute_result"
    }
   ],
   "source": [
    "# DO NOT EDIT THIS CODE\n",
    "import pandas as pd\n",
    "import numpy as np\n",
    "\n",
    "from sklearn.model_selection import cross_val_score\n",
    "from sklearn.linear_model import LinearRegression\n",
    "from sklearn.linear_model import LogisticRegression\n",
    "from sklearn.ensemble import RandomForestRegressor\n",
    "from sklearn.ensemble import RandomForestClassifier\n",
    "\n",
    "from sklearn.metrics import accuracy_score\n",
    "from sklearn.metrics import r2_score\n",
    "\n",
    "import matplotlib.pyplot as plt\n",
    "\n",
    "import warnings\n",
    "warnings.filterwarnings(\"ignore\")\n",
    "\n",
    "# EDIT THIS CODE TO LOAD THE SAVED DF FROM THE LAST HOMEWORK\n",
    "df = pd.read_csv('movies_clean.csv')\n",
    "df.head()"
   ]
  },
  {
   "cell_type": "markdown",
   "metadata": {},
   "source": [
    "### Exercise 1\n",
    "\n",
    "In Part 2 of this case study, we will primarily use the two models we recently discussed: linear/logistic regression and random forests to perform prediction and classification. We will use these methods to predict revenue, and we will use logistic regression to classify whether a movie was profitable.\n",
    "\n",
    "In this exercise, we will instantiate regression and classification models. Code is provided that prepares the covariates and outcomes we will use for data analysis.\n",
    "\n",
    "#### Instructions\n",
    "- Instantiate `LinearRegression()`, `LogisticRegression()`, `RandomForestRegressor()`, and `RandomForestClassifier()` objects, and assign them to `linear_regression`, `logistic_regression`, `forest_regression`, and `forest_classifier`, respectively.\n",
    "- For the random forests models, specify `max_depth=4` and `random_state=0`."
   ]
  },
  {
   "cell_type": "code",
   "execution_count": 15,
   "metadata": {},
   "outputs": [],
   "source": [
    "# Define all covariates and outcomes from `df`.\n",
    "regression_target = 'revenue'\n",
    "classification_target = 'profitable'\n",
    "all_covariates = ['budget', 'popularity', 'runtime', 'vote_count', 'vote_average', 'Action', 'Adventure', 'Fantasy', \n",
    "                  'Science Fiction', 'Crime', 'Drama', 'Thriller', 'Animation', 'Family', 'Western', 'Comedy', 'Romance', \n",
    "                  'Horror', 'Mystery', 'War', 'History', 'Music', 'Documentary', 'TV Movie', 'Foreign']\n",
    "\n",
    "regression_outcome = df[regression_target]\n",
    "classification_outcome = df[classification_target]\n",
    "covariates = df[all_covariates]\n",
    "\n",
    "# Instantiate all regression models and classifiers.\n",
    "linear_regression = LinearRegression()\n",
    "logistic_regression = LogisticRegression()\n",
    "forest_regression = RandomForestRegressor(max_depth=4,random_state=0)\n",
    "forest_classifier = RandomForestClassifier(max_depth=4,random_state=0)"
   ]
  },
  {
   "cell_type": "markdown",
   "metadata": {},
   "source": [
    "### Exercise 2\n",
    "\n",
    "In this exercise, we will create two functions that compute a model's score. For regression models, we will use correlation as the score. For classification models, we will use accuracy as the score.\n",
    "\n",
    "#### Instructions \n",
    "- Define a function called `correlation` with arguments `estimator`, `X`, and `y`. The function should compute the correlation between the observed outcome `y` and the outcome predicted by the model.\n",
    "    - To obtain predictions, the function should first use the `fit` method of `estimator` and then use the `predict` method from the fitted object.\n",
    "    - The function should return the first argument from `r2_score` comparing `predictions` and `y`.\n",
    "- Define a function called `accuracy` with the same arguments and code, substituting `accuracy_score` for `r2_score`."
   ]
  },
  {
   "cell_type": "code",
   "execution_count": 16,
   "metadata": {},
   "outputs": [],
   "source": [
    "# Enter your code here.\n",
    "def correlation(estimator,X,y):\n",
    "    a = estimator.fit(X,y)\n",
    "    predictions = estimator.fit(X,y).predict(X)\n",
    "    return r2_score(y, predictions)\n",
    "def accuracy(estimator,X,y):\n",
    "    predictions = estimator.fit(X,y).predict(X)\n",
    "    return accuracy_score(y,predictions)"
   ]
  },
  {
   "cell_type": "markdown",
   "metadata": {},
   "source": [
    "### Exercise 3\n",
    "\n",
    "In this exercise, we will compute the cross-validated performance for the linear and random forest regression models.\n",
    "\n",
    "#### Instructions \n",
    "\n",
    "- Call `cross_val_score` using `linear_regression` and `forest regression` as models. Store the output as `linear_regression_scores` and `forest_regression_scores`, respectively.\n",
    "    - Set the parameters `cv=10` to use 10-fold cross-validation and `scoring=correlation` to use our `correlation` function defined in the previous exercise.\n",
    "- Plotting code has been provided to compare the performance of the two models. Use `plt.show()` to plot the correlation between actual and predicted revenue for each cross-validation fold using the linear and random forest regression models.\n",
    "- Which of the two models exhibits a better fit?"
   ]
  },
  {
   "cell_type": "code",
   "execution_count": 17,
   "metadata": {},
   "outputs": [
    {
     "data": {
      "image/png": "[encoded data removed]",
      "text/plain": [
       "<Figure size 432x288 with 1 Axes>"
      ]
     },
     "metadata": {
      "needs_background": "light"
     },
     "output_type": "display_data"
    }
   ],
   "source": [
    "# Determine the cross-validated correlation for linear and random forest models.\n",
    "linear_regression_scores = cross_val_score(linear_regression,covariates, regression_outcome, cv=10, scoring=correlation)\n",
    "forest_regression_scores = cross_val_score(forest_regression,covariates, regression_outcome, cv=10, scoring=correlation)\n",
    "# Plot Results\n",
    "plt.axes().set_aspect('equal', 'box')\n",
    "plt.scatter(linear_regression_scores, forest_regression_scores)\n",
    "plt.plot((0, 1), (0, 1), 'k-')\n",
    "\n",
    "plt.xlim(0, 1)\n",
    "plt.ylim(0, 1)\n",
    "plt.xlabel(\"Linear Regression Score\")\n",
    "plt.ylabel(\"Forest Regression Score\")\n",
    "\n",
    "# Show the plot.\n",
    "plt.show()"
   ]
  },
  {
   "cell_type": "markdown",
   "metadata": {},
   "source": [
    "### Exercise 4\n",
    "\n",
    "In this exercise, we will compute cross-validated performance for the linear and random forest classification models.\n",
    "\n",
    "#### Instructions \n",
    "- Call `cross_val_score` using `logistic_regression` and `forest_classifier` as models. Store the output as `logistic_regression_scores` and `forest_classification_scores`, respectively.\n",
    "    - Set the parameters `cv=10` to use 10-fold cross-validation and `scoring=accuracy` to use our accuracy function defined in the previous exercise.\n",
    "- Plotting code has been provided to compare the performance of the two models. Use `plt.show()` to plot the accuracy of predicted profitability for each cross-validation fold using the logistic and random forest classification models.\n",
    "- Which of the two models exhibits a better fit?"
   ]
  },
  {
   "cell_type": "code",
   "execution_count": 18,
   "metadata": {},
   "outputs": [
    {
     "data": {
      "image/png": "[encoded data removed]",
      "text/plain": [
       "<Figure size 432x288 with 1 Axes>"
      ]
     },
     "metadata": {
      "needs_background": "light"
     },
     "output_type": "display_data"
    }
   ],
   "source": [
    "# Determine the cross-validated accuracy for logistic and random forest models.\n",
    "logistic_regression_scores = cross_val_score(logistic_regression,covariates, regression_outcome, cv=10, scoring=accuracy)\n",
    "forest_classification_scores = cross_val_score(forest_classifier,covariates, regression_outcome, cv=10, scoring=accuracy)\n",
    "# Plot Results\n",
    "plt.axes().set_aspect('equal', 'box')\n",
    "plt.scatter(logistic_regression_scores, forest_classification_scores)\n",
    "plt.plot((0, 1), (0, 1), 'k-')\n",
    "\n",
    "plt.xlim(0, 1)\n",
    "plt.ylim(0, 1)\n",
    "plt.xlabel(\"Linear Classification Score\")\n",
    "plt.ylabel(\"Forest Classification Score\")\n",
    "\n",
    "# Show the plot.\n",
    "plt.show()"
   ]
  },
  {
   "cell_type": "markdown",
   "metadata": {},
   "source": [
    "### Exercise 5 \n",
    "\n",
    "In Exercise 3, we saw that predicting revenue was only moderately successful. It might be the case that predicting movies that generated precisely no revenue is difficult. In the next three exercises, we will exclude these movies, and rerun the analyses to determine if the fits improve. In this exercise, we will rerun the regression analysis for this subsetted dataset.\n",
    "\n",
    "#### Instructions \n",
    "\n",
    "- Define `positive_revenue_df` as the subset of movies in `df` with `revenue` greater than zero.\n",
    "- Code is provided below that creates new instances of model objects. Replace all instances of `df` with `positive_revenue_df`, and run the given code."
   ]
  },
  {
   "cell_type": "code",
   "execution_count": 24,
   "metadata": {},
   "outputs": [
    {
     "data": {
      "text/plain": [
       "0.7680846546233253"
      ]
     },
     "execution_count": 24,
     "metadata": {},
     "output_type": "execute_result"
    }
   ],
   "source": [
    "positive_revenue_df = df[df[\"revenue\"]>0]\n",
    "\n",
    "# Replace the dataframe in the following code, and run.\n",
    "\n",
    "regression_outcome = positive_revenue_df[regression_target]\n",
    "classification_outcome = positive_revenue_df[classification_target]\n",
    "covariates = positive_revenue_df[all_covariates]\n",
    "\n",
    "# Reinstantiate all regression models and classifiers.\n",
    "linear_regression = LinearRegression()\n",
    "logistic_regression = LogisticRegression()\n",
    "forest_regression = RandomForestRegressor(max_depth=4, random_state=0)\n",
    "forest_classifier = RandomForestClassifier(max_depth=4, random_state=0)\n",
    "linear_regression_scores = cross_val_score(linear_regression, covariates, regression_outcome, cv=10, scoring=correlation)\n",
    "forest_regression_scores = cross_val_score(forest_regression, covariates, regression_outcome, cv=10, scoring=correlation)\n",
    "logistic_regression_scores = cross_val_score(logistic_regression, covariates, classification_outcome, cv=10, scoring=accuracy)\n",
    "forest_classification_scores = cross_val_score(forest_classifier, covariates, classification_outcome, cv=10, scoring=accuracy)\n",
    "forest_regression_scores.mean()"
   ]
  },
  {
   "cell_type": "markdown",
   "metadata": {},
   "source": [
    "### Exercise 6\n",
    "\n",
    "In this exercise, we will compute the cross-validated performance for the linear and random forest regression models for positive revenue movies only.\n",
    "\n",
    "#### Instructions \n",
    "\n",
    "- Call `cross_val_score` using `linear_regression` and `forest regression` as models. Store the output as `linear_regression_scores` and `forest_regression_scores`, respectively.\n",
    "    - Set the parameters `cv=10` to use 10-fold cross-validation and `scoring=correlation` to use our `correlation` function defined in the previous exercise.\n",
    "- Plotting code has been provided to compare the performance of the two models. Use `plt.show()` to plot the correlation between actual and predicted revenue for each cross-validation fold using the linear and random forest regression models.\n",
    "- Which of the two models exhibits a better fit? Is this result different from what we observed when considering all movies?\n",
    "- Code is provided for you that prints the importance of each covariate in predicting revenue using the random forests classifier. \n",
    "    - Which variables are most important?"
   ]
  },
  {
   "cell_type": "code",
   "execution_count": 25,
   "metadata": {},
   "outputs": [
    {
     "data": {
      "image/png": "[encoded data removed]",
      "text/plain": [
       "<Figure size 432x288 with 1 Axes>"
      ]
     },
     "metadata": {
      "needs_background": "light"
     },
     "output_type": "display_data"
    },
    {
     "data": {
      "text/plain": [
       "[('Fantasy', 0.0),\n",
       " ('Music', 0.0),\n",
       " ('TV Movie', 0.0),\n",
       " ('Foreign', 0.0),\n",
       " ('Documentary', 5.0242102884089965e-05),\n",
       " ('Romance', 6.604583330721586e-05),\n",
       " ('Western', 0.00015626864826347376),\n",
       " ('Thriller', 0.00015821728190237307),\n",
       " ('Mystery', 0.00018214788588276072),\n",
       " ('Horror', 0.00020010584158045155),\n",
       " ('War', 0.00021568794173586987),\n",
       " ('Action', 0.00039731194014744624),\n",
       " ('History', 0.0004223908705396497),\n",
       " ('Family', 0.0004586994511166151),\n",
       " ('Comedy', 0.0005068269265224419),\n",
       " ('Animation', 0.0009318004228486637),\n",
       " ('Science Fiction', 0.0009980285384426231),\n",
       " ('Crime', 0.0010130985717443698),\n",
       " ('Drama', 0.0013281289930065158),\n",
       " ('Adventure', 0.003080303040107078),\n",
       " ('vote_average', 0.006646714634639984),\n",
       " ('runtime', 0.016135965006071725),\n",
       " ('popularity', 0.08355296569387499),\n",
       " ('budget', 0.30757299732366344),\n",
       " ('vote_count', 0.5759260530517182)]"
      ]
     },
     "execution_count": 25,
     "metadata": {},
     "output_type": "execute_result"
    }
   ],
   "source": [
    "# Determine the cross-validated correlation for linear and random forest models.\n",
    "linear_regression_scores = cross_val_score(linear_regression,covariates, regression_outcome, cv=10, scoring=correlation)\n",
    "forest_regression_scores = cross_val_score(forest_regression,covariates, regression_outcome, cv=10, scoring=correlation)\n",
    "# Plot Results\n",
    "plt.axes().set_aspect('equal', 'box')\n",
    "plt.scatter(linear_regression_scores, forest_regression_scores)\n",
    "plt.plot((0, 1), (0, 1), 'k-')\n",
    "\n",
    "plt.xlim(0, 1)\n",
    "plt.ylim(0, 1)\n",
    "plt.xlabel(\"Linear Regression Score\")\n",
    "plt.ylabel(\"Forest Regression Score\")\n",
    "\n",
    "# Show the plot.\n",
    "plt.show()\n",
    "# Print the importance of each covariate in the random forest regression.\n",
    "forest_regression.fit(positive_revenue_df[all_covariates], positive_revenue_df[regression_target])    \n",
    "sorted(list(zip(all_covariates, forest_regression.feature_importances_)), key=lambda tup: tup[1])"
   ]
  },
  {
   "cell_type": "markdown",
   "metadata": {},
   "source": [
    "### Exercise 7\n",
    "\n",
    "In this exercise, we will compute cross-validated performance for the linear and random forest classification models for positive revenue movies only.\n",
    "\n",
    "#### Instructions \n",
    "\n",
    "- Call `cross_val_score` using `logistic_regression` and `forest classifer` as models. Store the output as `logistic_regression_scores` and `forest_classification_scores`, respectively.\n",
    "    - Set the parameters `cv=10` to use 10-fold cross-validation and `scoring=accuracy` to use our `accuracy` function defined in the previous exercise.\n",
    "- Plotting code has been provided to compare the performance of the two models. Use `plt.show()` to plot the correlation between actual and predicted revenue for each cross-validation fold using the linear and random forest regression models.\n",
    "- Which of the two models exhibits a better fit? Is this result different from what we observed when considering all movies?\n",
    "- Code is provided for you that prints the importance of each covariate in predicting profitabilitiy using the random forests classifier. \n",
    "    - Which variables are most important?"
   ]
  },
  {
   "cell_type": "code",
   "execution_count": 26,
   "metadata": {},
   "outputs": [
    {
     "data": {
      "image/png": "[encoded data removed]",
      "text/plain": [
       "<Figure size 432x288 with 1 Axes>"
      ]
     },
     "metadata": {
      "needs_background": "light"
     },
     "output_type": "display_data"
    },
    {
     "data": {
      "text/plain": [
       "[('TV Movie', 0.0),\n",
       " ('Horror', 0.001715202327676785),\n",
       " ('Animation', 0.0019388197444951466),\n",
       " ('Comedy', 0.0022574689899296065),\n",
       " ('Foreign', 0.0022801352325337114),\n",
       " ('Documentary', 0.002846458591904433),\n",
       " ('Romance', 0.0031608732977368944),\n",
       " ('Thriller', 0.0035569898966812397),\n",
       " ('Mystery', 0.004282452349394276),\n",
       " ('Music', 0.004308655018573079),\n",
       " ('Fantasy', 0.0051937079152913745),\n",
       " ('Western', 0.005480591973153852),\n",
       " ('Family', 0.0066609392542522055),\n",
       " ('Crime', 0.006772395781754328),\n",
       " ('History', 0.006793172805113654),\n",
       " ('Action', 0.0073412694021133835),\n",
       " ('Adventure', 0.007596959755592538),\n",
       " ('Science Fiction', 0.010816587516514861),\n",
       " ('War', 0.011275947022575308),\n",
       " ('Drama', 0.023093574562804687),\n",
       " ('runtime', 0.04154729351420867),\n",
       " ('budget', 0.08765680648089587),\n",
       " ('vote_average', 0.10261105225795153),\n",
       " ('popularity', 0.2811360280003983),\n",
       " ('vote_count', 0.36967661830845444)]"
      ]
     },
     "execution_count": 26,
     "metadata": {},
     "output_type": "execute_result"
    }
   ],
   "source": [
    "# Determine the cross-validated accuracy for logistic and random forest models.\n",
    "logistic_regression_scores = cross_val_score(logistic_regression,covariates, regression_outcome, cv=10, scoring=accuracy)\n",
    "forest_classification_scores = cross_val_score(forest_classifier,covariates, regression_outcome, cv=10, scoring=accuracy)\n",
    "\n",
    "# Plot Results\n",
    "plt.axes().set_aspect('equal', 'box')\n",
    "plt.scatter(logistic_regression_scores, forest_classification_scores)\n",
    "plt.plot((0, 1), (0, 1), 'k-')\n",
    "\n",
    "plt.xlim(0, 1)\n",
    "plt.ylim(0, 1)\n",
    "plt.xlabel(\"Linear Classification Score\")\n",
    "plt.ylabel(\"Forest Classification Score\")\n",
    "\n",
    "# Show the plot.\n",
    "plt.show()\n",
    "# Print the importance of each covariate in the random forest classification.\n",
    "forest_classifier.fit(positive_revenue_df[all_covariates], positive_revenue_df[classification_target])\n",
    "sorted(list(zip(all_covariates, forest_classifier.feature_importances_)), key=lambda tup: tup[1])"
   ]
  }
 ],
 "metadata": {
  "kernelspec": {
   "display_name": "Python 3",
   "language": "python",
   "name": "python3"
  },
  "language_info": {
   "codemirror_mode": {
    "name": "ipython",
    "version": 3
   },
   "file_extension": ".py",
   "mimetype": "text/x-python",
   "name": "python",
   "nbconvert_exporter": "python",
   "pygments_lexer": "ipython3",
   "version": "3.8.5"
  },
  "toc": {
   "base_numbering": 1,
   "nav_menu": {},
   "number_sections": true,
   "sideBar": true,
   "skip_h1_title": false,
   "title_cell": "Table of Contents",
   "title_sidebar": "Contents",
   "toc_cell": false,
   "toc_position": {},
   "toc_section_display": true,
   "toc_window_display": false
  }
 },
 "nbformat": 4,
 "nbformat_minor": 2
}
