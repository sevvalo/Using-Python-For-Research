{
  "nbformat": 4,
  "nbformat_minor": 0,
  "metadata": {
    "kernelspec": {
      "display_name": "Python 3",
      "language": "python",
      "name": "python3"
    },
    "language_info": {
      "codemirror_mode": {
        "name": "ipython",
        "version": 3
      },
      "file_extension": ".py",
      "mimetype": "text/x-python",
      "name": "python",
      "nbconvert_exporter": "python",
      "pygments_lexer": "ipython3",
      "version": "3.7.3"
    },
    "colab": {
      "name": "HW3-1.ipynb",
      "provenance": []
    }
  },
  "cells": [
    {
      "cell_type": "markdown",
      "metadata": {
        "id": "UuuHk5W8CFvT"
      },
      "source": [
        "# Using Python for Research Homework: Week 3, Case Study 1\n",
        "\n",
        "A cipher is a secret code for a language.  In this case study, we will explore a cipher that is reported by contemporary Greek historians to have been used by Julius Caesar to send secret messages to generals during times of war."
      ]
    },
    {
      "cell_type": "markdown",
      "metadata": {
        "id": "phxroo1PCFvZ"
      },
      "source": [
        "### Exercise 1\n",
        "\n",
        "A cipher is a secret code for a language. In this case study, we will explore a cipher that is reported by contemporary Greek historians to have been used by Julius Caesar to send secret messages to generals during times of war.\n",
        "\n",
        "The Caesar cipher shifts each letter of a message to another letter in the alphabet located a fixed distance from the original letter. If our encryption key were `1`, we would shift `h` to the next letter `i`, `i` to the next letter `j`, and so on. If we reach the end of the alphabet, which for us is the space character, we simply loop back to `a`. To decode the message, we make a similar shift, except we move the same number of steps backwards in the alphabet.\n",
        "\n",
        "Over the next five exercises, we will create our own Caesar cipher, as well as a message decoder for this cipher. In this exercise, we will define the alphabet used in the cipher.\n",
        "\n",
        "#### Instructions\n",
        "- The `string` library has been imported. Create a string called `alphabet` consisting of the space character `' '` followed by (concatenated with) the lowercase letters. Note that we're only using the lowercase letters in this exercise."
      ]
    },
    {
      "cell_type": "code",
      "metadata": {
        "colab": {
          "base_uri": "https://localhost:8080/",
          "height": 35
        },
        "id": "qfkR3A_7CFva",
        "outputId": "e2641f70-2420-4c14-9c43-0e4cc9d5b641"
      },
      "source": [
        "import string\n",
        "a = ' '.join([i for i in string.ascii_lowercase])\n",
        "alphabet = ' ' + string.ascii_lowercase"
      ],
      "execution_count": null,
      "outputs": [
        {
          "output_type": "execute_result",
          "data": {
            "application/vnd.google.colaboratory.intrinsic+json": {
              "type": "string"
            },
            "text/plain": [
              "' abcdefghijklmnopqrstuvwxyz'"
            ]
          },
          "metadata": {
            "tags": []
          },
          "execution_count": 6
        }
      ]
    },
    {
      "cell_type": "markdown",
      "metadata": {
        "id": "2jxLqsiPCFva"
      },
      "source": [
        "### Exercise 2 \n",
        "\n",
        "In this exercise, we will define a dictionary that specifies the index of each character in `alphabet`.\n",
        "\n",
        "#### Instructions \n",
        "- `alphabet` has already defined in the last exercise. Create a dictionary with keys consisting of the characters in alphabet and values consisting of the numbers from 0 to 26.\n",
        "- Store this as `positions`."
      ]
    },
    {
      "cell_type": "code",
      "metadata": {
        "colab": {
          "base_uri": "https://localhost:8080/"
        },
        "id": "BvRCNfBkCFvb",
        "outputId": "02039020-c3a4-4c7a-ded0-f8b010f56cd2"
      },
      "source": [
        "alphabet = ' ' + string.ascii_lowercase\n",
        "positions = dict()\n",
        "i = 0\n",
        "for letter in alphabet:\n",
        "  positions[letter] = i\n",
        "  i += 1\n",
        "positions"
      ],
      "execution_count": null,
      "outputs": [
        {
          "output_type": "execute_result",
          "data": {
            "text/plain": [
              "{' ': 0,\n",
              " 'a': 1,\n",
              " 'b': 2,\n",
              " 'c': 3,\n",
              " 'd': 4,\n",
              " 'e': 5,\n",
              " 'f': 6,\n",
              " 'g': 7,\n",
              " 'h': 8,\n",
              " 'i': 9,\n",
              " 'j': 10,\n",
              " 'k': 11,\n",
              " 'l': 12,\n",
              " 'm': 13,\n",
              " 'n': 14,\n",
              " 'o': 15,\n",
              " 'p': 16,\n",
              " 'q': 17,\n",
              " 'r': 18,\n",
              " 's': 19,\n",
              " 't': 20,\n",
              " 'u': 21,\n",
              " 'v': 22,\n",
              " 'w': 23,\n",
              " 'x': 24,\n",
              " 'y': 25,\n",
              " 'z': 26}"
            ]
          },
          "metadata": {
            "tags": []
          },
          "execution_count": 12
        }
      ]
    },
    {
      "cell_type": "markdown",
      "metadata": {
        "id": "2NgzuPHRCFvb"
      },
      "source": [
        "### Exercise 3\n",
        "\n",
        "In this exercise, we will encode a message with a Caesar cipher.\n",
        "\n",
        "#### Instructions \n",
        "\n",
        "- `alphabet` and `positions` have already been defined in previous exercises. Use `positions` to create an encoded message based on message where each character in message has been shifted forward by 1 position, as defined by positions.\n",
        "- **Note that you can ensure the result remains within 0-26 using result % 27**\n",
        "- Store this as `encoded_message`."
      ]
    },
    {
      "cell_type": "code",
      "metadata": {
        "colab": {
          "base_uri": "https://localhost:8080/",
          "height": 35
        },
        "id": "oWqFHLJxCFvb",
        "outputId": "be706e7d-a93e-4db5-86d6-b998a0104e44"
      },
      "source": [
        "message = \"hi my name is caesar\"\n",
        "def encoded_message(message):\n",
        "  s = ''\n",
        "  for char in message:\n",
        "    if char in positions.keys():\n",
        "      code_char = positions[char]+1\n",
        "      for i in positions:\n",
        "        if positions[i] == code_char:\n",
        "          s += i\n",
        "\n",
        "  return s\n",
        "\n",
        "encoded_message(message)"
      ],
      "execution_count": null,
      "outputs": [
        {
          "output_type": "execute_result",
          "data": {
            "application/vnd.google.colaboratory.intrinsic+json": {
              "type": "string"
            },
            "text/plain": [
              "'ijanzaobnfajtadbftbs'"
            ]
          },
          "metadata": {
            "tags": []
          },
          "execution_count": 22
        }
      ]
    },
    {
      "cell_type": "markdown",
      "metadata": {
        "id": "MnjDzMX5CFvb"
      },
      "source": [
        "### Exercise 4\n",
        "\n",
        "In this exercise, we will define a function that encodes a message with any given encryption key.\n",
        "\n",
        "#### Instructions \n",
        "- `alphabet`, `position` and `message` remain defined from previous exercises. Define a function `encoding` that takes a message as input as well as an int encryption key `key` to encode a message with the Caesar cipher by shifting each letter in message by key positions.\n",
        "- Your function should return a string consisting of these encoded letters.\n",
        "- Use `encoding` to encode message using `key = 3` and save the result as `encoded_message`.\n",
        "Print `encoded_message`."
      ]
    },
    {
      "cell_type": "code",
      "metadata": {
        "colab": {
          "base_uri": "https://localhost:8080/"
        },
        "id": "MiNa4FZUCFvc",
        "outputId": "cd3dd9bb-7dae-4836-ec59-af6460659068"
      },
      "source": [
        "\n",
        "message = \"hi my name is caesar\"\n",
        "def encoding(message, enc_key):\n",
        "  s = ''\n",
        "  for char in message:\n",
        "    if char in positions.keys():\n",
        "      code_char = positions[char]+enc_key\n",
        "      if code_char > 26:\n",
        "        code_char %= 27\n",
        "        for i in positions:\n",
        "          if positions[i] == code_char:\n",
        "            s += i \n",
        "      else:\n",
        "        for i in positions:\n",
        "          if positions[i] == code_char:\n",
        "            s += i\n",
        "  return s\n",
        "a = encoding(message, 3)\n",
        "a == 'klcpacqdphclvcfdhvdu'\n"
      ],
      "execution_count": null,
      "outputs": [
        {
          "output_type": "execute_result",
          "data": {
            "text/plain": [
              "True"
            ]
          },
          "metadata": {
            "tags": []
          },
          "execution_count": 40
        }
      ]
    },
    {
      "cell_type": "markdown",
      "metadata": {
        "id": "gG9MeDVtCFvc"
      },
      "source": [
        "### Exercise 5\n",
        "\n",
        "In this exercise, we will decode an encoded message.\n",
        "\n",
        "#### Instructions \n",
        "- Use `encoding` to decode `encoded_message`.\n",
        "- Store your encoded message as `decoded_message`.\n",
        "- Print `decoded_message`. Does this recover your original message?"
      ]
    },
    {
      "cell_type": "code",
      "metadata": {
        "colab": {
          "base_uri": "https://localhost:8080/",
          "height": 69
        },
        "id": "Mcs3AUoXCFvc",
        "outputId": "bf898745-acd7-478f-fa9f-0c8aec2f1924"
      },
      "source": [
        "message = \"hi my name is caesar\"\n",
        "a = encoding(message, 3)\n",
        "def decoding(message,key):\n",
        "  s = ''\n",
        "  for char in message:\n",
        "    if char in positions.keys():\n",
        "      code_char = positions[char]-key\n",
        "      if code_char < 0:\n",
        "        code_char = 27+ code_char\n",
        "        for i in positions:\n",
        "          if positions[i] == code_char:\n",
        "            s += i \n",
        "      else:\n",
        "        for i in positions:\n",
        "          if positions[i] == code_char:\n",
        "            s += i\n",
        "  return s\n",
        "decoding(a,3)"
      ],
      "execution_count": null,
      "outputs": [
        {
          "output_type": "stream",
          "text": [
            "-2\n",
            "25\n"
          ],
          "name": "stdout"
        },
        {
          "output_type": "execute_result",
          "data": {
            "application/vnd.google.colaboratory.intrinsic+json": {
              "type": "string"
            },
            "text/plain": [
              "'hi my name is caesar'"
            ]
          },
          "metadata": {
            "tags": []
          },
          "execution_count": 49
        }
      ]
    }
  ]
}