{
  "nbformat": 4,
  "nbformat_minor": 0,
  "metadata": {
    "kernelspec": {
      "display_name": "Python 3",
      "language": "python",
      "name": "python3"
    },
    "language_info": {
      "codemirror_mode": {
        "name": "ipython",
        "version": 3
      },
      "file_extension": ".py",
      "mimetype": "text/x-python",
      "name": "python",
      "nbconvert_exporter": "python",
      "pygments_lexer": "ipython3",
      "version": "3.7.3"
    },
    "colab": {
      "name": "HW2.ipynb",
      "provenance": []
    }
  },
  "cells": [
    {
      "cell_type": "markdown",
      "metadata": {
        "id": "nfwaIYFGV06v"
      },
      "source": [
        "# Using Python for Research Homework: Week 2\n",
        "\n",
        "In this homework, we will use the tools we've covered in the past two weeks to create a tic-tac-toe (noughts and crosses) simulator and evaluate basic winning strategies."
      ]
    },
    {
      "cell_type": "markdown",
      "metadata": {
        "id": "foP4y9SKV061"
      },
      "source": [
        "### Exercise 1\n",
        "\n",
        "Tic-tac-toe (or noughts and crosses) is a simple strategy game in which two players take turns placing a mark on a 3x3 board, attempting to make a row, column, or diagonal of three with their mark. In this homework, we will use the tools we've covered in the past two weeks to create a tic-tac-toe simulator and evaluate basic winning strategies.\n",
        "\n",
        "In the following exercises, we will learn to create a tic-tac-toe board, place markers on the board, evaluate if either player has won, and use this to simulate two basic strategies.\n",
        "\n",
        "#### Instructions \n",
        "\n",
        "- For our tic-tac-toe board, we will use a numpy array with dimension 3 by 3. \n",
        "- Make a function `create_board()` that creates such a board with the value of each cell set to the integer `0`.\n",
        "- Call `create_board()` and store it."
      ]
    },
    {
      "cell_type": "code",
      "metadata": {
        "colab": {
          "base_uri": "https://localhost:8080/"
        },
        "id": "i7VNmboVV064",
        "outputId": "109484d2-6aef-46da-ed21-9ad118272f8d"
      },
      "source": [
        "import numpy as np\n",
        "\n",
        "def create_board():\n",
        "  return np.zeros((3,3), dtype=int)\n",
        "create_board()\n"
      ],
      "execution_count": 1,
      "outputs": [
        {
          "output_type": "execute_result",
          "data": {
            "text/plain": [
              "array([[0, 0, 0],\n",
              "       [0, 0, 0],\n",
              "       [0, 0, 0]])"
            ]
          },
          "metadata": {
            "tags": []
          },
          "execution_count": 1
        }
      ]
    },
    {
      "cell_type": "markdown",
      "metadata": {
        "id": "1Thm5L7QV065"
      },
      "source": [
        "### Exercise 2\n",
        "\n",
        "Players 1 and 2 will take turns changing values of this array from a 0 to a 1 or 2, indicating the number of the player who places a marker there.\n",
        "\n",
        "#### Instructions \n",
        "\n",
        "- Create a function `place(board, player, position)`, where:\n",
        "    - `player` is the current player (an integer 1 or 2).\n",
        "    - `position` is a tuple of length 2 specifying a desired location to place their marker.\n",
        "    - Your function should only allow the current player to place a marker on the board (change the board position to their number) if that position is empty (zero).\n",
        "- Use `create_board()` to store a board as `board`, and use `place` to have Player 1 place a marker on location `(0, 0)`."
      ]
    },
    {
      "cell_type": "code",
      "metadata": {
        "colab": {
          "base_uri": "https://localhost:8080/"
        },
        "id": "f4PoVwrKV066",
        "outputId": "c76c98c4-197c-42e0-fe3d-2b45e2beafd9"
      },
      "source": [
        "'''board = create_board()\n",
        "def place(board, player,position):  \n",
        "  if board[position[0], position[1]] == 0:\n",
        "    board[position[0], position[1]] = player\n",
        "    return board\n",
        "place(board , 1 , (0,0))'''"
      ],
      "execution_count": null,
      "outputs": [
        {
          "output_type": "execute_result",
          "data": {
            "text/plain": [
              "array([[1, 0, 0],\n",
              "       [0, 0, 0],\n",
              "       [0, 0, 0]])"
            ]
          },
          "metadata": {
            "tags": []
          },
          "execution_count": 3
        }
      ]
    },
    {
      "cell_type": "code",
      "metadata": {
        "id": "3HVWUngw3en5"
      },
      "source": [
        "# NOT DONE BY ME\r\n",
        "def place(board, player, position):\r\n",
        "    if board[position] == 0:\r\n",
        "        board[position] = player\r\n",
        "        return board"
      ],
      "execution_count": null,
      "outputs": []
    },
    {
      "cell_type": "markdown",
      "metadata": {
        "id": "26_cAUUIV067"
      },
      "source": [
        "### Exercise 3\n",
        "\n",
        "In this exercise, we will determine which positions are available to either player for placing their marker.\n",
        "\n",
        "#### Instructions \n",
        "- Create a function `possibilities(board)` that returns a list of all positions (tuples) on the board that are not occupied (0). (Hint: `numpy.where` is a handy function that returns a list of indices that meet a condition.)\n",
        "- `board` is already defined from previous exercises. Call `possibilities(board)` to see what it returns!"
      ]
    },
    {
      "cell_type": "code",
      "metadata": {
        "colab": {
          "base_uri": "https://localhost:8080/"
        },
        "id": "tYvew_EpZp-1",
        "outputId": "5b9ec326-eae3-405b-b8b3-cdfc2e161947"
      },
      "source": [
        "arr = np.array([11, 12, 19, 14, 15, 16, 17, 18, 19, 20, 21])\r\n",
        "\r\n",
        "result = np.where(arr == 19)\r\n",
        "print(result)"
      ],
      "execution_count": null,
      "outputs": [
        {
          "output_type": "stream",
          "text": [
            "(array([2, 8]),)\n"
          ],
          "name": "stdout"
        }
      ]
    },
    {
      "cell_type": "code",
      "metadata": {
        "colab": {
          "base_uri": "https://localhost:8080/"
        },
        "id": "MI9f-mnLV068",
        "outputId": "0c688e48-f589-4bab-bef7-4061b7ec0abb"
      },
      "source": [
        "\n",
        "\n",
        "def possibilities(board):\n",
        "  '''r = np.where(board == 0)\n",
        "  positions= list(zip(r[0], r[1]))\n",
        "  l =[]\n",
        "  for pos in positions:\n",
        "    l.append(pos)\n",
        "  return l'''\n",
        "  return list(zip(*np.where(board == 0)))\n",
        "\n",
        "possibilities(board)"
      ],
      "execution_count": null,
      "outputs": [
        {
          "output_type": "execute_result",
          "data": {
            "text/plain": [
              "[(0, 1), (0, 2), (1, 0), (1, 1), (1, 2), (2, 0), (2, 1), (2, 2)]"
            ]
          },
          "metadata": {
            "tags": []
          },
          "execution_count": 4
        }
      ]
    },
    {
      "cell_type": "markdown",
      "metadata": {
        "id": "tlnKnXNgV069"
      },
      "source": [
        "### Exercise 4\n",
        "\n",
        "The next step is for the current player to place a marker among the available positions. In this exercise, we will select an available board position at random and place a marker there.\n",
        "\n",
        "#### Instructions \n",
        "\n",
        "- Write a function `random_place(board, player)` that places a marker for the current player at random among all the available positions (those currently set to 0).\n",
        "    - Find possible placements with `possibilities(board)`.\n",
        "    - Select one possible placement at random using `random.choice(selection)`.\n",
        "- `board` is already defined from previous exercises. Call `random_place(board, player)` to place a random marker for Player 2, and store this as board to update its value."
      ]
    },
    {
      "cell_type": "code",
      "metadata": {
        "colab": {
          "base_uri": "https://localhost:8080/"
        },
        "id": "FucP73xhV06-",
        "outputId": "b9ba931a-1d58-4a22-af52-c141f287518f"
      },
      "source": [
        "import random \n",
        "random.seed(1)\n",
        "\n",
        "board= create_board()\n",
        "def random_place(board,player):\n",
        "  p = possibilities(board)\n",
        "  if len(p)>0:\n",
        "    sel = random.choice(p)\n",
        "    place(board,player,sel)\n",
        "  return board\n",
        "\n",
        "random_place(board, 2)"
      ],
      "execution_count": null,
      "outputs": [
        {
          "output_type": "execute_result",
          "data": {
            "text/plain": [
              "array([[0, 0, 2],\n",
              "       [0, 0, 0],\n",
              "       [0, 0, 0]])"
            ]
          },
          "metadata": {
            "tags": []
          },
          "execution_count": 5
        }
      ]
    },
    {
      "cell_type": "markdown",
      "metadata": {
        "id": "Ph6em4DEV06-"
      },
      "source": [
        "### Exercise 5\n",
        "\n",
        "We will now have both players place three markers each.\n",
        "\n",
        "#### Instructions \n",
        "\n",
        "- A new `board` is already given. Call `random_place(board, player)` to place three pieces each on board for players 1 and 2.\n",
        "- Print board to see your result."
      ]
    },
    {
      "cell_type": "code",
      "metadata": {
        "colab": {
          "base_uri": "https://localhost:8080/"
        },
        "id": "DjX8VhGpV06_",
        "outputId": "496234ed-c470-43f6-853c-41ac738406ca"
      },
      "source": [
        "random.seed(1)\n",
        "board = create_board()\n",
        "random_place(board, 1)\n",
        "random_place(board, 1)\n",
        "random_place(board, 1)\n"
      ],
      "execution_count": null,
      "outputs": [
        {
          "output_type": "execute_result",
          "data": {
            "text/plain": [
              "array([[0, 1, 1],\n",
              "       [0, 1, 0],\n",
              "       [0, 0, 0]])"
            ]
          },
          "metadata": {
            "tags": []
          },
          "execution_count": 6
        }
      ]
    },
    {
      "cell_type": "markdown",
      "metadata": {
        "id": "EUiWoRYUV07A"
      },
      "source": [
        "### Exercise 6\n",
        "\n",
        "In the next few exercises, we will make functions that check whether either player has won the game.\n",
        "\n",
        "#### Instructions \n",
        "- Make a function `row_win(board, player)` that takes the player (integer) and determines if any row consists of only their marker. \n",
        "    - Have it return `True` if this condition is met and `False` otherwise.\n",
        "- `board` is already defined from previous exercises. Call `row_win` to check if Player 1 has a complete row."
      ]
    },
    {
      "cell_type": "code",
      "metadata": {
        "id": "D23qal6vV07B"
      },
      "source": [
        "'''board = create_board()\n",
        "def row_win(board,player):\n",
        "    if np.any(np.all(board==player, axis=1)):\n",
        "      return True\n",
        "    else: return False\n",
        "row_win(board,1)'''\n",
        "def row_win(board, player):\n",
        "    winner = False\n",
        "    if np.any(np.all(board==player,axis=1)):\n",
        "        return True\n",
        "    else:\n",
        "        return False"
      ],
      "execution_count": null,
      "outputs": []
    },
    {
      "cell_type": "code",
      "metadata": {
        "id": "c7lNA_oV4LER"
      },
      "source": [
        ""
      ],
      "execution_count": null,
      "outputs": []
    },
    {
      "cell_type": "markdown",
      "metadata": {
        "id": "_acGe-CqV07B"
      },
      "source": [
        "### Exercise 7\n",
        "\n",
        "In the next few exercises, we will make functions that verify if either player has won the game.\n",
        "\n",
        "#### Instructions \n",
        "- Make a function `col_win(board, player)` that takes the player (integer) and determines if any column consists of only their marker. \n",
        "    - Have it return `True` if this condition is met and `False` otherwise.\n",
        "- `board` is already defined from previous exercises. Call `col_win` to check if Player 1 has a complete row."
      ]
    },
    {
      "cell_type": "code",
      "metadata": {
        "id": "SfxGTXHvV07C"
      },
      "source": [
        "'''def col_win(board,player):\n",
        "  if np.any(np.all(board==player, axis=0)):\n",
        "      return True\n",
        "  else: return False\n",
        "\n",
        "col_win(board,1)'''\n",
        "def col_win(board, player):\n",
        "    if np.any(np.all(board==player,axis=0)):\n",
        "        return True\n",
        "    else:\n",
        "        return False"
      ],
      "execution_count": null,
      "outputs": []
    },
    {
      "cell_type": "markdown",
      "metadata": {
        "id": "Z1eStl4RV07D"
      },
      "source": [
        "### Exercise 8\n",
        "\n",
        "In the next few exercises, we will make functions that verify if either player has won the game.\n",
        "\n",
        "#### Instructions \n",
        "- Finally, create a function `diag_win(board, player)` that tests if either diagonal of the board consists of only their marker. Have it return `True` if this condition is met, and `False` otherwise.\n",
        "- `board` has been slightly modified from a previous exercise. Call `diag_win` to check if Player 2 has a complete diagonal."
      ]
    },
    {
      "cell_type": "code",
      "metadata": {
        "id": "bd7wA30jV07D"
      },
      "source": [
        "board[1,1] = 2\n",
        "def diag_win(board,player):\n",
        "  a = board.diagonal()\n",
        "  if np.all(np.diag(board)==player) or np.all(np.diag(np.fliplr(board))==player):\n",
        "        # np.diag returns the diagonal of the array\n",
        "        # np.fliplr rearranges columns in reverse order\n",
        "        return True\n",
        "  else: return False\n"
      ],
      "execution_count": null,
      "outputs": []
    },
    {
      "cell_type": "markdown",
      "metadata": {
        "id": "UmeNOOAlV07E"
      },
      "source": [
        "### Exercise 9\n",
        "\n",
        "In the next few exercises, we will make functions that check whether either player has won the game.\n",
        "\n",
        "#### Instructions \n",
        "- Create a function `evaluate(board)` that uses `row_win`, `col_win`, and `diag_win` functions for both players. If one of them has won, return that player's number. If the board is full but no one has won, return -1. Otherwise, return 0.\n",
        "- `board` is already defined from previous exercises. Call evaluate to see if either player has won the game yet."
      ]
    },
    {
      "cell_type": "code",
      "metadata": {
        "id": "xgjE_Q2bV07F"
      },
      "source": [
        "board = np.array([[2 ,2, 1], [1, 1, 1],[2, 1, 2]])\n",
        "def evaluate(board):\n",
        "    winner = 0\n",
        "    for player in [1, 2]:\n",
        "        if col_win(board,player)== True or row_win(board,player) == True or diag_win(board,player)== True :\n",
        "          winner = player\n",
        "    if np.all(board != 0) and winner == 0:\n",
        "        winner = -1\n",
        "        return winner\n",
        "evaluate(board)"
      ],
      "execution_count": null,
      "outputs": []
    },
    {
      "cell_type": "markdown",
      "metadata": {
        "id": "EOywaNb8V07F"
      },
      "source": [
        "### Exercise 10\n",
        "\n",
        "In this exercise, we will use all the functions we have made to simulate an entire game.\n",
        "\n",
        "#### Instructions \n",
        "\n",
        "- `create_board()`, `random_place(board, player)`, and `evaluate(board)` have been created in previous exercises. Create a function `play_game()` that:\n",
        "    - Creates a board.\n",
        "    - Alternates taking turns between two players (beginning with Player 1), placing a marker during each turn.\n",
        "    - Evaluates the board for a winner after each placement.\n",
        "    - Continues the game until one player wins (returning 1 or 2 to reflect the winning player), or the game is a draw (returning -1).\n",
        "- Call play_game 1000 times, and store the results of the game in a list called `results`."
      ]
    },
    {
      "cell_type": "code",
      "metadata": {
        "id": "P3lJHWt_V07I",
        "colab": {
          "base_uri": "https://localhost:8080/"
        },
        "outputId": "91db86e2-81d9-4c85-b3e8-ce52e1b2bc18"
      },
      "source": [
        "random.seed(1)\n",
        "def play_game():\n",
        "  '''board = create_board()\n",
        "  for i in range(9):\n",
        "    player = 1\n",
        "    while player == 1:\n",
        "      random_place(board,player)\n",
        "      player += 1\n",
        "    while player == 2:\n",
        "      random_place(board,player)\n",
        "      player -= 1\n",
        "  return evaluate(board)'''\n",
        "  board = create_board()\n",
        "  winner = 0\n",
        "  while winner == 0:\n",
        "      for player in [1, 2]:\n",
        "          random_place(board, player)\n",
        "          winner = evaluate(board)\n",
        "          if winner != 0:\n",
        "              break\n",
        "  return winner\n",
        "\n",
        "l =[]\n",
        "for i in range(3):\n",
        "  l.append(play_game())\n",
        "s =0\n",
        "for i in l:\n",
        "  if i == 1:\n",
        "    s += 1\n",
        "print(s)\n"
      ],
      "execution_count": null,
      "outputs": [
        {
          "output_type": "stream",
          "text": [
            "0\n"
          ],
          "name": "stdout"
        }
      ]
    },
    {
      "cell_type": "markdown",
      "metadata": {
        "id": "YNgyqM7vV07J"
      },
      "source": [
        "#### Exercise 11\n",
        "\n",
        "In the previous exercise, we see that when guessing at random, it's better to go first, as expected. Let's see if Player 1 can improve their strategy. \n",
        "\n",
        "#### Instructions \n",
        "- Create a function `play_strategic_game()`, where Player 1 always starts with the middle square, and otherwise both players place their markers randomly.\n",
        "- Call `play_strategic_game` 1000 times."
      ]
    },
    {
      "cell_type": "code",
      "metadata": {
        "id": "es5yezSIV07K"
      },
      "source": [
        "random.seed(1)\n",
        "\n",
        "def play_strategic_game():\n",
        "    board, winner = create_board(), 0\n",
        "    board[1,1] = 1\n",
        "    while winner == 0:\n",
        "        for player in [2,1]:\n",
        "            random_place(board, player)\n",
        "            winner = evaluate(board)\n",
        "            if winner != 0:\n",
        "                break\n",
        "    return winner\n"
      ],
      "execution_count": null,
      "outputs": []
    }
  ]
}