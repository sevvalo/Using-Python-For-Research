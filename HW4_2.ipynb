{
  "nbformat": 4,
  "nbformat_minor": 0,
  "metadata": {
    "kernelspec": {
      "display_name": "Python 3",
      "language": "python",
      "name": "python3"
    },
    "language_info": {
      "codemirror_mode": {
        "name": "ipython",
        "version": 3
      },
      "file_extension": ".py",
      "mimetype": "text/x-python",
      "name": "python",
      "nbconvert_exporter": "python",
      "pygments_lexer": "ipython3",
      "version": "3.7.3"
    },
    "colab": {
      "name": "HW4-2.ipynb",
      "provenance": []
    }
  },
  "cells": [
    {
      "cell_type": "markdown",
      "metadata": {
        "id": "_iiYKGXWdFED"
      },
      "source": [
        "# Using Python for Research Homework: Week 4, Case Study 2\n",
        "\n",
        "In this case study, we will continue taking a look at patterns of flight for each of the three birds in our dataset."
      ]
    },
    {
      "cell_type": "code",
      "metadata": {
        "id": "jYLsDj--dFES"
      },
      "source": [
        "# DO NOT EDIT THIS CODE\n",
        "import pandas as pd\n",
        "import numpy as np\n",
        "birddata = pd.read_csv(\"https://courses.edx.org/asset-v1:HarvardX+PH526x+2T2019+type@asset+block@bird_tracking.csv\", index_col=0)\n",
        "birddata.head()"
      ],
      "execution_count": null,
      "outputs": []
    },
    {
      "cell_type": "markdown",
      "metadata": {
        "id": "5QOR678wdFEU"
      },
      "source": [
        "### Exercise 1\n",
        "\n",
        "In this case study, we will continue taking a look at patterns of flight for each of the three birds in our dataset. We will group the flight patterns by bird and date, and plot the mean altitude for these groupings.\n",
        "\n",
        "`pandas` makes it easy to perform basic operations on groups within a dataframe without needing to loop through each value in the dataframe. In this exercise, we will group the dataframe by `birdname` and then find the average `speed_2d` for each bird.\n",
        "\n",
        "#### Instructions \n",
        "- Fill in the code to find the mean altitudes of each bird using the pre-loaded `birddata` dataframe. "
      ]
    },
    {
      "cell_type": "code",
      "metadata": {
        "id": "8ews4tGZdFEW"
      },
      "source": [
        "# First, use `groupby()` to group the data by \"bird_name\".\n",
        "grouped_birds = birddata.groupby(['bird_name'])\n",
        "\n",
        "# Now calculate the mean of `speed_2d` using the `mean()` function.\n",
        "mean_speeds = grouped_birds.mean([\"speed_2d\"])\n",
        "\n",
        "# Find the mean `altitude` for each bird.\n",
        "mean_altitudes = grouped_birds.mean([\"altitude\"])"
      ],
      "execution_count": null,
      "outputs": []
    },
    {
      "cell_type": "markdown",
      "metadata": {
        "id": "D6KZvmcLdFEW"
      },
      "source": [
        "### Exercise 2\n",
        "\n",
        "In this exercise, we will group the flight times by date and calculate the mean altitude within that day.\n",
        "\n",
        "#### Instructions \n",
        "- Convert `birddata.date_time` to the `pd.datetime` format, and store as `birddata[\"date\"]`.\n",
        "- Fill in the code to find the mean altitudes for each day."
      ]
    },
    {
      "cell_type": "code",
      "metadata": {
        "id": "54xnZLG3dFEY"
      },
      "source": [
        "# Convert birddata.date_time to the `pd.datetime` format.\n",
        "birddata.date_time = pd.to_datetime(birddata.date_time)\n",
        "\n",
        "# Create a new column of day of observation\n",
        "birddata[\"date\"] = pd.to_datetime(birddata.date_time)\n",
        "\n",
        "# Use `groupby()` to group the data by date.\n",
        "grouped_bydates = birddata.groupby(['date'])\n",
        "\n",
        "# Find the mean `altitude` for each date.\n",
        "mean_altitudes_perday = grouped_bydates.mean([\"altitude\"])"
      ],
      "execution_count": null,
      "outputs": []
    },
    {
      "cell_type": "code",
      "metadata": {
        "id": "-PyiGi67j7cQ"
      },
      "source": [
        "birddata.date_time = pd.to_datetime(birddata.date_time)\r\n",
        "\r\n",
        "birddata[\"date\"] = birddata.date_time.dt.date\r\n",
        "grouped_bydates = birddata.groupby(\"date\")\r\n",
        "mean_altitudes_perday = grouped_bydates.altitude.mean()"
      ],
      "execution_count": null,
      "outputs": []
    },
    {
      "cell_type": "markdown",
      "metadata": {
        "id": "fFRaABCydFEY"
      },
      "source": [
        "### Exercise 3\n",
        "\n",
        "In this exercise, we will group the flight times by both bird and date, and calculate the mean altitude for each.\n",
        "\n",
        "#### Instructions \n",
        "- `birddata` already contains the `date` column. To find the average speed for each bird and day, create a new grouped dataframe called `grouped_birdday` that groups the data by both `bird_name` and date."
      ]
    },
    {
      "cell_type": "code",
      "metadata": {
        "id": "0N-VH7ubdFEZ"
      },
      "source": [
        "# Use `groupby()` to group the data by bird and date.\n",
        "grouped_birdday = birddata.groupby(\"bird_name\", \"date\")\n",
        "\n",
        "# Find the mean `altitude` for each bird and date.\n",
        "mean_altitudes_perday = grouped_birdday.altitude.mean()"
      ],
      "execution_count": null,
      "outputs": []
    },
    {
      "cell_type": "markdown",
      "metadata": {
        "id": "2mlfglt6dFEa"
      },
      "source": [
        "### Exercise 4\n",
        "\n",
        "Great! Now find the average speed for each bird and day.\n",
        "\n",
        "#### Instructions \n",
        "\n",
        "- Store these are three `pandas` `Series` objects, one for each bird.\n",
        "- Use the plotting code provided to plot the average speeds for each bird."
      ]
    },
    {
      "cell_type": "code",
      "metadata": {
        "id": "0LU-spR9dFEb"
      },
      "source": [
        "import matplotlib.pyplot as plt\n",
        "\n",
        "eric_daily_speed  = grouped_birdday.speed_2d.mean()[\"Eric\"]\n",
        "sanne_daily_speed = grouped_birdday.speed_2d.mean()[\"Sanne\"]\n",
        "nico_daily_speed  = grouped_birdday.speed_2d.mean()[\"Nico\"]\n",
        "\n",
        "eric_daily_speed.plot(label=\"Eric\")\n",
        "sanne_daily_speed.plot(label=\"Sanne\")\n",
        "nico_daily_speed.plot(label=\"Nico\")\n",
        "plt.legend(loc=\"upper left\")\n",
        "plt.show()"
      ],
      "execution_count": null,
      "outputs": []
    }
  ]
}