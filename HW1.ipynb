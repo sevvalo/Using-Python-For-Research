{
  "nbformat": 4,
  "nbformat_minor": 0,
  "metadata": {
    "kernelspec": {
      "display_name": "Python 3",
      "language": "python",
      "name": "python3"
    },
    "language_info": {
      "codemirror_mode": {
        "name": "ipython",
        "version": 3
      },
      "file_extension": ".py",
      "mimetype": "text/x-python",
      "name": "python",
      "nbconvert_exporter": "python",
      "pygments_lexer": "ipython3",
      "version": "3.7.3"
    },
    "colab": {
      "name": "HW1.ipynb",
      "provenance": []
    }
  },
  "cells": [
    {
      "cell_type": "markdown",
      "metadata": {
        "id": "HUNOZMyyFNOt"
      },
      "source": [
        "# Using Python for Research Homework: Week 1\n",
        "\n",
        "In this homework, we will use objects, functions, and randomness to find the length of documents, approximate $\\pi$, and smooth out random noise."
      ]
    },
    {
      "cell_type": "markdown",
      "metadata": {
        "id": "Eisq9MQMFNOw"
      },
      "source": [
        "### Exercise 1\n",
        "\n",
        "In this five-part exercise, we will count the frequency of each letter in a given string.\n",
        "\n",
        "#### Exercise 1a\n",
        "\n",
        "- Import the `string` library.\n",
        "- Create a variable `alphabet` that consists of the lowercase and uppercase letters in the English alphabet using the `ascii_letters` data attribute of the `string` library."
      ]
    },
    {
      "cell_type": "code",
      "metadata": {
        "id": "TgxZZcuNFNOx"
      },
      "source": [
        "import string\n",
        "alphabet = string.ascii_letters"
      ],
      "execution_count": 34,
      "outputs": []
    },
    {
      "cell_type": "markdown",
      "metadata": {
        "id": "rtl5zyldFNOy"
      },
      "source": [
        "#### Exercise 1b\n",
        "- The lower and upper case letters of the English alphabet should stored as the string variable `alphabet`.\n",
        "- Consider the sentence 'Jim quickly realized that the beautiful gowns are expensive'. Create a dictionary `count_letters` with keys consisting of each unique letter in the sentence and values consisting of the number of times each letter is used in this sentence. Count upper case and lower case letters separately in the dictionary."
      ]
    },
    {
      "cell_type": "code",
      "metadata": {
        "id": "j7fVxcHCFNOy"
      },
      "source": [
        "sentence = 'Jim quickly realized that the beautiful gowns are expensive'\n",
        "\n",
        "count_letters ={}\n",
        "for i in sentence:\n",
        "  if i in alphabet:\n",
        "    if i in count_letters:\n",
        "      count_letters[i] += 1\n",
        "    else:\n",
        "      count_letters[i] = 1\n",
        "    \n",
        "count_letters\n"
      ],
      "execution_count": null,
      "outputs": []
    },
    {
      "cell_type": "markdown",
      "metadata": {
        "id": "4L8YGbplFNOz"
      },
      "source": [
        "#### Exercise 1c\n",
        "- Rewrite your code from 1b to make a function called `counter` that takes a string `input_string` and returns a dictionary of letter counts `count_letters`.\n",
        "- Use your function to call `counter(sentence)`."
      ]
    },
    {
      "cell_type": "code",
      "metadata": {
        "id": "CJLE2UHUFNOz"
      },
      "source": [
        "def counter(input_string):\n",
        "  count_letters = {}\n",
        "  for i in input_string:\n",
        "    if i in alphabet:\n",
        "      if i in count_letters:\n",
        "        count_letters[i] += 1\n",
        "      else:\n",
        "        count_letters[i] = 1\n",
        "  return count_letters\n",
        "  \n"
      ],
      "execution_count": 36,
      "outputs": []
    },
    {
      "cell_type": "markdown",
      "metadata": {
        "id": "mxKjeGSnFNO0"
      },
      "source": [
        "#### Exercise 1d\n",
        "- Abraham Lincoln was a president during the American Civil War. His famous 1863 Gettysburg Address has been stored as `address`. Use the `counter` function from 1c to return a dictionary consisting of the count of each letter in this address and save it as `address_count`."
      ]
    },
    {
      "cell_type": "code",
      "metadata": {
        "id": "GaySQWjyFNO0"
      },
      "source": [
        "address = \"\"\"Four score and seven years ago our fathers brought forth on this continent, a new nation, \n",
        "conceived in Liberty, and dedicated to the proposition that all men are created equal. Now we are engaged in a \n",
        "great civil war, testing whether that nation, or any nation so conceived and so dedicated, can long endure. \n",
        "We are met on a great battle-field of that war. We have come to dedicate a portion of that field, as a final \n",
        "resting place for those who here gave their lives that that nation might live. It is altogether fitting and proper \n",
        "that we should do this. But, in a larger sense, we can not dedicate -- we can not consecrate -- we can not hallow -- \n",
        "this ground. The brave men, living and dead, who struggled here, have consecrated it, far above our poor power to add \n",
        "or detract. The world will little note, nor long remember what we say here, but it can never forget what they did here. \n",
        "It is for us the living, rather, to be dedicated here to the unfinished work which they who fought here have thus far so \n",
        "nobly advanced. It is rather for us to be here dedicated to the great task remaining before us -- that from these honored \n",
        "dead we take increased devotion to that cause for which they gave the last full measure of devotion -- that we here \n",
        "highly resolve that these dead shall not have died in vain -- that this nation, under God, shall have a new birth of \n",
        "freedom -- and that government of the people, by the people, for the people, shall not perish from the earth.\"\"\"   \n",
        "\n",
        "address_count = counter(address)"
      ],
      "execution_count": 37,
      "outputs": []
    },
    {
      "cell_type": "markdown",
      "metadata": {
        "id": "fKDaGmYgFNO1"
      },
      "source": [
        "#### Exercise 1f\n",
        "- The frequency of each letter in the Gettysburg Address is already stored as `address_count`. Use this dictionary to find the most common letter in the Gettysburg address."
      ]
    },
    {
      "cell_type": "code",
      "metadata": {
        "id": "T80f7epEFNO2",
        "colab": {
          "base_uri": "https://localhost:8080/"
        },
        "outputId": "94f41ea5-568c-4af4-e246-c917bde41a0a"
      },
      "source": [
        "maxi = max(address_count.values())\n",
        "for i in address_count:\n",
        "  if address_count[i] == maxi:\n",
        "    print(i)"
      ],
      "execution_count": 38,
      "outputs": [
        {
          "output_type": "stream",
          "text": [
            "e\n"
          ],
          "name": "stdout"
        }
      ]
    },
    {
      "cell_type": "markdown",
      "metadata": {
        "id": "ri4t6tzNFNO2"
      },
      "source": [
        "### Exercise 2\n",
        "\n",
        "Consider a circle inscribed in a square. The ratio of their areas (the ratio of the area of the circle to the area of the square) is $\\frac{\\pi}{4}$. In this six-part exercise, we will find a way to approximate this value.\n",
        "\n",
        "#### Exercise 2a\n",
        "- Using the `math` library, calculate and print the value of $\\frac{\\pi}{4}$"
      ]
    },
    {
      "cell_type": "code",
      "metadata": {
        "id": "K2Ye2K1mFNO3"
      },
      "source": [
        "import math\n",
        "a = math.pi / 4\n"
      ],
      "execution_count": 46,
      "outputs": []
    },
    {
      "cell_type": "markdown",
      "metadata": {
        "id": "v6zEZl3wFNO3"
      },
      "source": [
        "#### Exercise 2b\n",
        "- Using `random.uniform()`, create a function `rand()` that generates a single float between $-1$ and $1$.\n",
        "- Call `rand()` once. For us to be able to check your solution, we will use `random.seed()` to fix the seed value of the random number generator."
      ]
    },
    {
      "cell_type": "code",
      "metadata": {
        "id": "0XR-g9q5FNO3",
        "colab": {
          "base_uri": "https://localhost:8080/"
        },
        "outputId": "df3dc2af-8288-4b52-9fdb-cda786a9c8a3"
      },
      "source": [
        "import random\n",
        "\n",
        "random.seed(1) # Fixes the see of the random number generator.\n",
        "\n",
        "def rand():\n",
        "   return random.uniform(-1,1)\n",
        "\n",
        "rand()"
      ],
      "execution_count": 40,
      "outputs": [
        {
          "output_type": "execute_result",
          "data": {
            "text/plain": [
              "-0.7312715117751976"
            ]
          },
          "metadata": {
            "tags": []
          },
          "execution_count": 40
        }
      ]
    },
    {
      "cell_type": "markdown",
      "metadata": {
        "id": "0H4HyTsqFNO4"
      },
      "source": [
        "#### Exercise 2c\n",
        "- The distance between two points x and y is the square root of the sum of squared differences along each dimension of x and y. Write a function` distance(x, y)` that takes two vectors as its input and outputs the distance between them. Use your function to find the distance between $x=(0,0)$ and $y=(1,1)$."
      ]
    },
    {
      "cell_type": "code",
      "metadata": {
        "id": "jibT4QyuFNO4",
        "colab": {
          "base_uri": "https://localhost:8080/"
        },
        "outputId": "0499ff54-d61c-4114-dcb1-f1cf6dc78db4"
      },
      "source": [
        "def distance(x, y):\n",
        "  x1, y1 = x\n",
        "  x2, y2 = y\n",
        "  return math.sqrt((x1-x2)**2+ (y1-y2)**2)\n",
        "x=(0,0)\n",
        "y=(1,1)\n",
        "distance(x,y)"
      ],
      "execution_count": 41,
      "outputs": [
        {
          "output_type": "execute_result",
          "data": {
            "text/plain": [
              "1.4142135623730951"
            ]
          },
          "metadata": {
            "tags": []
          },
          "execution_count": 41
        }
      ]
    },
    {
      "cell_type": "markdown",
      "metadata": {
        "id": "ukheUfzcFNO4"
      },
      "source": [
        "#### Exercise 2d\n",
        "\n",
        "- Write a function `in_circle(x, origin)` that determines whether a point in a two dimensional plane falls within a unit circle surrounding a given origin.\n",
        "    - Your function should return a boolean `True` if the distance between `x` and `origin` is less than 1 and `False` otherwise.\n",
        "    - Use `distance(x, y)` as defined in 2c.\n",
        "- Use your function to determine whether the point (1,1) lies within the unit circle centered at (0,0)."
      ]
    },
    {
      "cell_type": "code",
      "metadata": {
        "id": "nrpoFffgFNO5"
      },
      "source": [
        "def in_circle(x, origin = [0,0]):\n",
        "  if distance(x, origin) < 1:\n",
        "    return True\n",
        "  else:\n",
        "    return False"
      ],
      "execution_count": 42,
      "outputs": []
    },
    {
      "cell_type": "markdown",
      "metadata": {
        "id": "4EnfWVaHFNO5"
      },
      "source": [
        "#### Exercise 2e\n",
        "\n",
        "- Create a list `inside` of `R=10000` booleans that determines whether or not a point falls within the unit circle centered at `(0,0)`. \n",
        "    - Use the `rand` function from 2b to generate `R` randomly located points.\n",
        "    - Use the function `in_circle` to test whether or not a given pint falls within the unit circle.\n",
        "- Find the proportion of points that fall within the circle by summing all `True` values in the `inside` list; then divide the answer by `R` to obtain a proportion.\n",
        "- Print your answer. This proportion is an estimate of the ratio of the two areas!"
      ]
    },
    {
      "cell_type": "code",
      "metadata": {
        "id": "8emsPS86FNO6"
      },
      "source": [
        "random.seed(1) \n",
        "R = 10000\n",
        "inside = []\n",
        "for i in range(R):\n",
        "  x = [rand(), rand()]\n",
        "  if in_circle(x) == True:\n",
        "    inside.append(x)\n",
        "b = len(inside)/R"
      ],
      "execution_count": 45,
      "outputs": []
    },
    {
      "cell_type": "markdown",
      "metadata": {
        "id": "oAGOpyXcFNO7"
      },
      "source": [
        "#### Exercise 2f\n",
        "\n",
        "- Find the difference between your estimate from part 2e and `math.pi / 4`. Note: `inside` and `R` are defined as in Exercise 2e."
      ]
    },
    {
      "cell_type": "code",
      "metadata": {
        "id": "6lTDgpoLFNO7",
        "colab": {
          "base_uri": "https://localhost:8080/"
        },
        "outputId": "57b43c88-f06c-4c95-a49c-baff90dc768c"
      },
      "source": [
        "a -b \n"
      ],
      "execution_count": 47,
      "outputs": [
        {
          "output_type": "execute_result",
          "data": {
            "text/plain": [
              "0.006398163397448253"
            ]
          },
          "metadata": {
            "tags": []
          },
          "execution_count": 47
        }
      ]
    },
    {
      "cell_type": "markdown",
      "metadata": {
        "id": "PZFitzOEFNO7"
      },
      "source": [
        "### Exercise 3\n",
        "\n",
        "A list of numbers representing measurements obtained from a system of interest can often be noisy. One way to deal with noise to smoothen the values by replacing each value with the average of the value and the values of its neighbors.\n",
        "\n",
        "#### Exercise 3a\n",
        "\n",
        "- Write a function `moving_window_average(x, n_neighbors)` that takes a list `x` and the number of neighbors `n_neighbors` on either side of a given member of the list to consider.\n",
        "- For each value in `x`, `moving_window_average(x, n_neighbors)` computes the average of the value and the values of its neighbors.\n",
        "- `moving_window_average` should return a list of averaged values that is the same length as the original list.\n",
        "- If there are not enough neighbors (for cases near the edge), substitute the original value for a neighbor for each missing neighbor.\n",
        "- Use your function to find the moving window sum of `x=[0,10,5,3,1,5]` and `n_neighbors=1`."
      ]
    },
    {
      "cell_type": "code",
      "metadata": {
        "colab": {
          "base_uri": "https://localhost:8080/"
        },
        "id": "USzadAaxFNO8",
        "outputId": "e42be19b-5fac-4365-aad6-4fd2241bbb78"
      },
      "source": [
        "def moving_window_average(x, n_neighbors=1):\n",
        "  n = len(x)\n",
        "  width = n_neighbors*2 + 1\n",
        "  x = [x[0]]*n_neighbors + x + [x[-1]]*n_neighbors\n",
        "  return[sum(x[i:(i+width)]) / width for i in range(n)]\n",
        "\n",
        "x = [0,10,5,3,1,5]\n",
        "print(moving_window_average(x, 1))"
      ],
      "execution_count": 51,
      "outputs": [
        {
          "output_type": "stream",
          "text": [
            "[3.3333333333333335, 5.0, 6.0, 3.0, 3.0, 3.6666666666666665]\n"
          ],
          "name": "stdout"
        }
      ]
    },
    {
      "cell_type": "code",
      "metadata": {
        "colab": {
          "base_uri": "https://localhost:8080/"
        },
        "id": "n16FAW4xIFBe",
        "outputId": "3c941b81-1ece-409e-dacc-262cc1355295"
      },
      "source": [
        "def moving_window_average(x, n_neighbors=1):\r\n",
        "    n = len(x)\r\n",
        "    width = n_neighbors*2 + 1\r\n",
        "    x = [x[0]]*n_neighbors + x + [x[-1]]*n_neighbors\r\n",
        "    # To complete the function,\r\n",
        "    # return a list of the mean of values from i to i+width for all values i from 0 to n-1.\r\n",
        "    return [sum(x[i:(i+width)]) / width for i in range(n)]\r\n",
        "    \r\n",
        "    \r\n",
        "x=[0,10,5,3,1,5]\r\n",
        "print(moving_window_average(x, 1))"
      ],
      "execution_count": null,
      "outputs": [
        {
          "output_type": "stream",
          "text": [
            "[3.3333333333333335, 5.0, 6.0, 3.0, 3.0, 3.6666666666666665]\n"
          ],
          "name": "stdout"
        }
      ]
    },
    {
      "cell_type": "markdown",
      "metadata": {
        "id": "c-VwW3ZPFNO8"
      },
      "source": [
        "#### Exercise 3b\n",
        "- Compute and store `R=1000` random values from 0-1 as `x`.\n",
        "- Compute the moving window average for `x` for values of `n_neighbors` ranging from 1 to 9 inclusive.\n",
        "- Store `x` as well as each of these averages as consecutive lists in a list called `Y`"
      ]
    },
    {
      "cell_type": "code",
      "metadata": {
        "id": "ri4Bv3DxFNO8",
        "colab": {
          "base_uri": "https://localhost:8080/"
        },
        "outputId": "aa8e7787-3ab3-4f09-9c07-57d8c23d688b"
      },
      "source": [
        "random.seed(1)\n",
        "R = 1000\n",
        "x = [random.uniform(0, 1) for i in range(0, 1000)] \n",
        "\"\"\"Return a random floating point number N such that\n",
        "   a <= N <= b for a <= b \n",
        "   and b <= N <= a for b < a.\"\"\"\n",
        "moving_window_average(x, 5)\n",
        "Y = [moving_window_average(x, n_neighbors) for n_neighbors in range(1,10)]\n",
        "s = moving_window_average(x, 5)\n",
        "s[9]"
      ],
      "execution_count": 65,
      "outputs": [
        {
          "output_type": "execute_result",
          "data": {
            "text/plain": [
              "0.47380545327025597"
            ]
          },
          "metadata": {
            "tags": []
          },
          "execution_count": 65
        }
      ]
    },
    {
      "cell_type": "markdown",
      "metadata": {
        "id": "59oiGBeFFNO9"
      },
      "source": [
        "#### Exercise 3c\n",
        "\n",
        "- For each list in `Y`, calculate and store the range (the maximum minus the minimum) in a new list ranges.\n",
        "- Print your answer. As the window width increases, does the range of each list increase or decrease? Why do you think that is?"
      ]
    },
    {
      "cell_type": "code",
      "metadata": {
        "colab": {
          "base_uri": "https://localhost:8080/"
        },
        "id": "mbs6ZJK-FNO9",
        "outputId": "22b965a3-eecb-4dcf-fd4f-b147eeb3b64d"
      },
      "source": [
        "ranges = []\n",
        "for l in Y:\n",
        "  ranges.append(max(l)-min(l))\n",
        "ranges"
      ],
      "execution_count": null,
      "outputs": [
        {
          "output_type": "execute_result",
          "data": {
            "text/plain": [
              "[0.9973152343362711,\n",
              " 0.9128390185520854,\n",
              " 0.801645771909397,\n",
              " 0.7137391224212468,\n",
              " 0.6230146948375028,\n",
              " 0.5042284086774562,\n",
              " 0.5071013753101629,\n",
              " 0.4590090496908159,\n",
              " 0.44659549539083265,\n",
              " 0.4433696944090051]"
            ]
          },
          "metadata": {
            "tags": []
          },
          "execution_count": 13
        }
      ]
    },
    {
      "cell_type": "code",
      "metadata": {
        "colab": {
          "base_uri": "https://localhost:8080/"
        },
        "id": "O8btByhpQ5B5",
        "outputId": "fb150072-880f-4a3d-ea1a-8baacd60e3ff"
      },
      "source": [
        "#INDEPENDENT\r\n",
        "\r\n",
        "def descending_order(num):\r\n",
        "    l = list(map(int,str(num)))\r\n",
        "\r\n",
        "    l.sort(reverse=True)\r\n",
        "\r\n",
        "    st = [str(i) for i in l]\r\n",
        "\r\n",
        "    a = \"\".join(st)\r\n",
        "    return int(a)\r\n",
        "    \r\n",
        "descending_order(123456)\r\n"
      ],
      "execution_count": null,
      "outputs": [
        {
          "output_type": "execute_result",
          "data": {
            "text/plain": [
              "654321"
            ]
          },
          "metadata": {
            "tags": []
          },
          "execution_count": 22
        }
      ]
    }
  ]
}